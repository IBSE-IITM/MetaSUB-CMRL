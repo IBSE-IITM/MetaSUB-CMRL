{
 "cells": [
  {
   "cell_type": "markdown",
   "metadata": {},
   "source": [
    "## About\n",
    "\n",
    "TODO\n",
    "\n",
    "## Microbial diversity and composition across various surface types \n",
    "## surface site taxa difference analysis code 2\n",
    "\n",
    "Next: `variation_across_surface_type_valcano_plot.Rmd`"
   ]
  },
  {
   "cell_type": "code",
   "execution_count": 1,
   "metadata": {},
   "outputs": [],
   "source": [
    "import pandas as pd\n",
    "import numpy as np\n",
    "import os"
   ]
  },
  {
   "cell_type": "code",
   "execution_count": null,
   "metadata": {},
   "outputs": [],
   "source": [
    "DATASET = os.path.join(\n",
    "    \"..\",\"..\",\"data\"\n",
    ")\n",
    "CHENNAI_DATASET = os.path.join(DATASET,\"Chennai_data\")\n",
    "RESULTS = os.path.join(\"../../results/\")\n",
    "KIOSK_RESULTS = os.path.join(\n",
    "    \"../../results/actinium_chennai_kiosk_species_abd_0\"\n",
    ")\n",
    "SUPPLEMENTARY = os.path.join(\n",
    "    \"../../results/supplementary\"\n",
    ")"
   ]
  },
  {
   "cell_type": "code",
   "execution_count": 22,
   "metadata": {},
   "outputs": [],
   "source": [
    "def get_mean(df, column, column_to_ignore):\n",
    "    \"\"\"\n",
    "        get_mean\n",
    "        input:\n",
    "            df = Dataframe.\n",
    "            column = name of the column.\n",
    "            column_to_ignore = remove the column name from analysis\n",
    "\n",
    "        output:\n",
    "            return a groupby mean\n",
    "    \"\"\"\n",
    "    temp = df[[i for i in df.columns if i not in column_to_ignore]]\n",
    "    return temp.groupby(column).mean()\n",
    "\n",
    "def entire_workflow(Table, LABEL_COLUMN = \"is_kiosk\"):\n",
    "    \"\"\"\n",
    "        entire_workflow\n",
    "        input:\n",
    "\n",
    "        output:\n",
    "            \n",
    "        Performs log2FC, makes the required CSV for valcano plot (a csv table with taxa all, adj p-value for all, log2FC)\n",
    "    \"\"\"\n",
    "    (site,table) = Table\n",
    "    taxa = \"species\"\n",
    "    feature_df = pd.read_csv(\n",
    "        os.path.join(RESULTS,f\"chennai_{site}_species_abd_0.001\", \"features\", \"filtered_data.tsv\"),\n",
    "        sep=\"\\t\",\n",
    "    )\n",
    "    feature_df.rename(columns={\"feature\": \"Samples\"}, inplace=True)\n",
    "\n",
    "    ## Metadata of Chennai for Kiosk\n",
    "    metadata_df = pd.read_csv(os.path.join(CHENNAI_DATASET, \"metadata_processed.csv\"))[['Samples',LABEL_COLUMN]]\n",
    "\n",
    "    ## Merge the datasets\n",
    "    merge_df = feature_df.merge(metadata_df, on=\"Samples\", how=\"inner\")\n",
    "\n",
    "    log_mean_df = np.log2(\n",
    "        get_mean(\n",
    "            merge_df, column=LABEL_COLUMN, column_to_ignore=[\"Samples\", \"select object\"]\n",
    "        )\n",
    "    )\n",
    "    mean_kiosk_df = get_mean(\n",
    "            merge_df, column=LABEL_COLUMN, column_to_ignore=[\"Samples\", \"select object\"]\n",
    "        ).loc[site]\n",
    "    log2_FC = log_mean_df.loc[site] - log_mean_df.loc[\"Other\"]\n",
    "    log2_FC.sort_values(inplace=True)\n",
    "    log2_FC.index.name = \"Taxa\"\n",
    "    mean_kiosk_df.index.name = \"Taxa\"\n",
    "    log2_FC = log2_FC.to_frame()\n",
    "    mean_kiosk_df = mean_kiosk_df.to_frame()\n",
    "    #print(log2_FC.head())\n",
    "    #print(mean_kiosk_df.head())\n",
    "    mean_kiosk_df.rename(columns={site: \"Mean_rel_abt_on_kiosk\"}, inplace=True)\n",
    "    log2_FC = log2_FC.merge(mean_kiosk_df, on = 'Taxa',how='inner')\n",
    "    log2_FC.to_csv(os.path.join(RESULTS,f\"chennai_{site}_species_abd_0.001\", \"log2fc.csv\"))\n",
    "\n",
    "    ## Combine items to make required CSV for valcano plots\n",
    "    log2_FC = pd.read_csv(os.path.join(RESULTS,f\"chennai_{site}_species_abd_0.001\", \"log2fc.csv\"))\n",
    "    log2_FC.rename(columns={\"0\": \"Log2FC\"}, inplace=True)\n",
    "\n",
    "    ## Read the Masline2 all_results.csv\n",
    "    all_res_ = pd.read_csv(\n",
    "        os.path.join(RESULTS,f\"chennai_{site}_species_abd_0.001\", \"all_results.tsv\"), sep=\"\\t\"\n",
    "    )\n",
    "    all_res_ = all_res_.merge(log2_FC, left_on=\"feature\", right_on=\"Taxa\", how=\"inner\")\n",
    "    all_res_.to_csv(\n",
    "        os.path.join(RESULTS,f\"chennai_{site}_species_abd_0.001\", f\"valcano_{taxa}.csv\"),\n",
    "        index=False,\n",
    "    )\n",
    "\n",
    "    all_res_[\"abs_Log2FC\"] = np.absolute(all_res_[\"Log2FC\"]) \n",
    "    all_res_ = all_res_.query(\"qval < 0.05 and abs_Log2FC > 1\")\n",
    "    all_res_[\"Over-/under-representation\"] = all_res_[\"Log2FC\"].apply(lambda x: \"UP\" if x>1 else \"DOWN\" if x < -1 else \"NEUTRAL\")\n",
    "\n",
    "    ## Prittyfy the table\n",
    "    all_res_.rename(columns={\"feature\":\"Species\", \"pval\":\"p-value\", \"qval\":\"P_adj\"}, inplace = True)\n",
    "    all_res_ = all_res_[[\"Species\",\"p-value\",\"P_adj\",\"Log2FC\",\"Over-/under-representation\"]]\n",
    "    all_res_.to_csv(\n",
    "        os.path.join(SUPPLEMENTARY, f\"supplementary_{table}.csv\"),\n",
    "        index=False,\n",
    "        )"
   ]
  },
  {
   "cell_type": "code",
   "execution_count": 23,
   "metadata": {},
   "outputs": [
    {
     "name": "stdout",
     "output_type": "stream",
     "text": [
      "wokring on ('Kiosk', 'S5', 'is_kiosk')\n",
      "wokring on ('Rod', 'S6', 'is_Rod')\n"
     ]
    },
    {
     "name": "stderr",
     "output_type": "stream",
     "text": [
      "C:\\Users\\yuvar\\AppData\\Local\\Temp\\ipykernel_33984\\3391681066.py:92: SettingWithCopyWarning: \n",
      "A value is trying to be set on a copy of a slice from a DataFrame.\n",
      "Try using .loc[row_indexer,col_indexer] = value instead\n",
      "\n",
      "See the caveats in the documentation: https://pandas.pydata.org/pandas-docs/stable/user_guide/indexing.html#returning-a-view-versus-a-copy\n",
      "  all_res_[\"Over-/under-representation\"] = all_res_[\"Log2FC\"].apply(lambda x: \"UP\" if x>1 else \"DOWN\" if x < -1 else \"NEUTRAL\")\n",
      "C:\\Users\\yuvar\\AppData\\Local\\Temp\\ipykernel_33984\\3391681066.py:95: SettingWithCopyWarning: \n",
      "A value is trying to be set on a copy of a slice from a DataFrame\n",
      "\n",
      "See the caveats in the documentation: https://pandas.pydata.org/pandas-docs/stable/user_guide/indexing.html#returning-a-view-versus-a-copy\n",
      "  all_res_.rename(columns={\"feature\":\"Species\", \"pval\":\"p-value\", \"qval\":\"P_adj\"}, inplace = True)\n",
      "C:\\Users\\yuvar\\AppData\\Local\\Temp\\ipykernel_33984\\3391681066.py:92: SettingWithCopyWarning: \n",
      "A value is trying to be set on a copy of a slice from a DataFrame.\n",
      "Try using .loc[row_indexer,col_indexer] = value instead\n",
      "\n",
      "See the caveats in the documentation: https://pandas.pydata.org/pandas-docs/stable/user_guide/indexing.html#returning-a-view-versus-a-copy\n",
      "  all_res_[\"Over-/under-representation\"] = all_res_[\"Log2FC\"].apply(lambda x: \"UP\" if x>1 else \"DOWN\" if x < -1 else \"NEUTRAL\")\n",
      "C:\\Users\\yuvar\\AppData\\Local\\Temp\\ipykernel_33984\\3391681066.py:95: SettingWithCopyWarning: \n",
      "A value is trying to be set on a copy of a slice from a DataFrame\n",
      "\n",
      "See the caveats in the documentation: https://pandas.pydata.org/pandas-docs/stable/user_guide/indexing.html#returning-a-view-versus-a-copy\n",
      "  all_res_.rename(columns={\"feature\":\"Species\", \"pval\":\"p-value\", \"qval\":\"P_adj\"}, inplace = True)\n"
     ]
    }
   ],
   "source": [
    "for i in [(\"Kiosk\",\"S5\",\"is_kiosk\"),(\"Rod\",\"S6\",\"is_Rod\")]:#[\"\",\"\"]:\n",
    "    print(\"Working on\",i)\n",
    "    entire_workflow(i[:2],i[-1])"
   ]
  }
 ],
 "metadata": {
  "kernelspec": {
   "display_name": "chennai-MetaSUB",
   "language": "python",
   "name": "python3"
  },
  "language_info": {
   "codemirror_mode": {
    "name": "ipython",
    "version": 3
   },
   "file_extension": ".py",
   "mimetype": "text/x-python",
   "name": "python",
   "nbconvert_exporter": "python",
   "pygments_lexer": "ipython3",
   "version": "3.8.16"
  }
 },
 "nbformat": 4,
 "nbformat_minor": 2
}
